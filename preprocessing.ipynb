{
 "cells": [
  {
   "metadata": {
    "ExecuteTime": {
     "end_time": "2024-06-18T23:13:22.784537Z",
     "start_time": "2024-06-18T23:13:22.413868Z"
    }
   },
   "cell_type": "code",
   "source": [
    "import pickle\n",
    "import re\n",
    "\n",
    "import numpy as np\n",
    "import pandas as pd\n",
    "\n",
    "from sklearn.model_selection import train_test_split\n",
    "from sklearn.preprocessing import StandardScaler"
   ],
   "id": "7bb474495ddfa1bc",
   "outputs": [],
   "execution_count": 1
  },
  {
   "metadata": {},
   "cell_type": "markdown",
   "source": "# Import Dataset",
   "id": "fa85543e6b238ada"
  },
  {
   "cell_type": "code",
   "id": "initial_id",
   "metadata": {
    "collapsed": true,
    "ExecuteTime": {
     "end_time": "2024-06-18T23:13:25.593016Z",
     "start_time": "2024-06-18T23:13:25.562999Z"
    }
   },
   "source": [
    "dataset = pd.read_csv('data/train.csv')\n",
    "dataset.head()"
   ],
   "outputs": [
    {
     "data": {
      "text/plain": [
       "   PassengerId  Survived  Pclass  \\\n",
       "0            1         0       3   \n",
       "1            2         1       1   \n",
       "2            3         1       3   \n",
       "3            4         1       1   \n",
       "4            5         0       3   \n",
       "\n",
       "                                                Name     Sex   Age  SibSp  \\\n",
       "0                            Braund, Mr. Owen Harris    male  22.0      1   \n",
       "1  Cumings, Mrs. John Bradley (Florence Briggs Th...  female  38.0      1   \n",
       "2                             Heikkinen, Miss. Laina  female  26.0      0   \n",
       "3       Futrelle, Mrs. Jacques Heath (Lily May Peel)  female  35.0      1   \n",
       "4                           Allen, Mr. William Henry    male  35.0      0   \n",
       "\n",
       "   Parch            Ticket     Fare Cabin Embarked  \n",
       "0      0         A/5 21171   7.2500   NaN        S  \n",
       "1      0          PC 17599  71.2833   C85        C  \n",
       "2      0  STON/O2. 3101282   7.9250   NaN        S  \n",
       "3      0            113803  53.1000  C123        S  \n",
       "4      0            373450   8.0500   NaN        S  "
      ],
      "text/html": [
       "<div>\n",
       "<style scoped>\n",
       "    .dataframe tbody tr th:only-of-type {\n",
       "        vertical-align: middle;\n",
       "    }\n",
       "\n",
       "    .dataframe tbody tr th {\n",
       "        vertical-align: top;\n",
       "    }\n",
       "\n",
       "    .dataframe thead th {\n",
       "        text-align: right;\n",
       "    }\n",
       "</style>\n",
       "<table border=\"1\" class=\"dataframe\">\n",
       "  <thead>\n",
       "    <tr style=\"text-align: right;\">\n",
       "      <th></th>\n",
       "      <th>PassengerId</th>\n",
       "      <th>Survived</th>\n",
       "      <th>Pclass</th>\n",
       "      <th>Name</th>\n",
       "      <th>Sex</th>\n",
       "      <th>Age</th>\n",
       "      <th>SibSp</th>\n",
       "      <th>Parch</th>\n",
       "      <th>Ticket</th>\n",
       "      <th>Fare</th>\n",
       "      <th>Cabin</th>\n",
       "      <th>Embarked</th>\n",
       "    </tr>\n",
       "  </thead>\n",
       "  <tbody>\n",
       "    <tr>\n",
       "      <th>0</th>\n",
       "      <td>1</td>\n",
       "      <td>0</td>\n",
       "      <td>3</td>\n",
       "      <td>Braund, Mr. Owen Harris</td>\n",
       "      <td>male</td>\n",
       "      <td>22.0</td>\n",
       "      <td>1</td>\n",
       "      <td>0</td>\n",
       "      <td>A/5 21171</td>\n",
       "      <td>7.2500</td>\n",
       "      <td>NaN</td>\n",
       "      <td>S</td>\n",
       "    </tr>\n",
       "    <tr>\n",
       "      <th>1</th>\n",
       "      <td>2</td>\n",
       "      <td>1</td>\n",
       "      <td>1</td>\n",
       "      <td>Cumings, Mrs. John Bradley (Florence Briggs Th...</td>\n",
       "      <td>female</td>\n",
       "      <td>38.0</td>\n",
       "      <td>1</td>\n",
       "      <td>0</td>\n",
       "      <td>PC 17599</td>\n",
       "      <td>71.2833</td>\n",
       "      <td>C85</td>\n",
       "      <td>C</td>\n",
       "    </tr>\n",
       "    <tr>\n",
       "      <th>2</th>\n",
       "      <td>3</td>\n",
       "      <td>1</td>\n",
       "      <td>3</td>\n",
       "      <td>Heikkinen, Miss. Laina</td>\n",
       "      <td>female</td>\n",
       "      <td>26.0</td>\n",
       "      <td>0</td>\n",
       "      <td>0</td>\n",
       "      <td>STON/O2. 3101282</td>\n",
       "      <td>7.9250</td>\n",
       "      <td>NaN</td>\n",
       "      <td>S</td>\n",
       "    </tr>\n",
       "    <tr>\n",
       "      <th>3</th>\n",
       "      <td>4</td>\n",
       "      <td>1</td>\n",
       "      <td>1</td>\n",
       "      <td>Futrelle, Mrs. Jacques Heath (Lily May Peel)</td>\n",
       "      <td>female</td>\n",
       "      <td>35.0</td>\n",
       "      <td>1</td>\n",
       "      <td>0</td>\n",
       "      <td>113803</td>\n",
       "      <td>53.1000</td>\n",
       "      <td>C123</td>\n",
       "      <td>S</td>\n",
       "    </tr>\n",
       "    <tr>\n",
       "      <th>4</th>\n",
       "      <td>5</td>\n",
       "      <td>0</td>\n",
       "      <td>3</td>\n",
       "      <td>Allen, Mr. William Henry</td>\n",
       "      <td>male</td>\n",
       "      <td>35.0</td>\n",
       "      <td>0</td>\n",
       "      <td>0</td>\n",
       "      <td>373450</td>\n",
       "      <td>8.0500</td>\n",
       "      <td>NaN</td>\n",
       "      <td>S</td>\n",
       "    </tr>\n",
       "  </tbody>\n",
       "</table>\n",
       "</div>"
      ]
     },
     "execution_count": 2,
     "metadata": {},
     "output_type": "execute_result"
    }
   ],
   "execution_count": 2
  },
  {
   "metadata": {},
   "cell_type": "markdown",
   "source": "# Preprocessing",
   "id": "8d195f59eb40ff1c"
  },
  {
   "metadata": {},
   "cell_type": "markdown",
   "source": "## Preprocessing functions",
   "id": "87153efed2208ab2"
  },
  {
   "metadata": {
    "ExecuteTime": {
     "end_time": "2024-06-18T23:13:27.182279Z",
     "start_time": "2024-06-18T23:13:27.178142Z"
    }
   },
   "cell_type": "code",
   "source": [
    "def drop_ticket(dataset):\n",
    "    dataset = dataset.drop('Ticket', axis=1)\n",
    "    return dataset"
   ],
   "id": "dd30b24a062e8960",
   "outputs": [],
   "execution_count": 3
  },
  {
   "metadata": {
    "ExecuteTime": {
     "end_time": "2024-06-18T23:13:27.592958Z",
     "start_time": "2024-06-18T23:13:27.589989Z"
    }
   },
   "cell_type": "code",
   "source": [
    "def get_all_family_members(dataset):\n",
    "    dataset['FamilyMembers'] = dataset['SibSp'] + dataset['Parch']\n",
    "    return dataset"
   ],
   "id": "a4858e861447b27c",
   "outputs": [],
   "execution_count": 4
  },
  {
   "metadata": {
    "ExecuteTime": {
     "end_time": "2024-06-18T23:13:27.942103Z",
     "start_time": "2024-06-18T23:13:27.937839Z"
    }
   },
   "cell_type": "code",
   "source": [
    "def clean_nans(dataset):\n",
    "    dataset['Cabin'] = dataset['Cabin'].map(lambda x: x[0] if isinstance(x, str) else 'Z')\n",
    "    dataset['Embarked'] = dataset['Embarked'].fillna('None')\n",
    "    dataset['Age'] = dataset['Age'].fillna(-100)\n",
    "    \n",
    "    return dataset"
   ],
   "id": "8dc6cf0d2f6121ab",
   "outputs": [],
   "execution_count": 5
  },
  {
   "metadata": {
    "ExecuteTime": {
     "end_time": "2024-06-18T23:13:28.272106Z",
     "start_time": "2024-06-18T23:13:28.268764Z"
    }
   },
   "cell_type": "code",
   "source": [
    "def extract_title(name):\n",
    "    match = re.search(r',\\s*([^\\.]*)\\.', name)\n",
    "    if match:\n",
    "        return match.group(1).strip()\n",
    "    return \"\""
   ],
   "id": "943c3e0cda90e1b1",
   "outputs": [],
   "execution_count": 6
  },
  {
   "metadata": {
    "ExecuteTime": {
     "end_time": "2024-06-18T23:13:28.640824Z",
     "start_time": "2024-06-18T23:13:28.635570Z"
    }
   },
   "cell_type": "code",
   "source": [
    "def transform_name(name):\n",
    "    maiden_name_match = re.search(r'\\(([^()]*\\b\\w+)\\)', name)\n",
    "    last_name_match = re.match(r'([^,]+),', name)\n",
    "    title_match = re.search(r',\\s*([^\\.]*)\\.', name)\n",
    "\n",
    "    last_name = last_name_match.group(1).strip()\n",
    "    \n",
    "    if title_match:\n",
    "        title = title_match.group(1).strip()\n",
    "        if title == 'Miss' or title == 'Mlle':\n",
    "            title = 'Ms'\n",
    "        elif title == 'Mme':\n",
    "            title = 'Mrs'\n",
    "        \n",
    "    if maiden_name_match:\n",
    "        content_inside_parentheses = maiden_name_match.group(1)\n",
    "        maiden_name = content_inside_parentheses.split()[-1]\n",
    "    else:\n",
    "        maiden_name = last_name\n",
    "    \n",
    "\n",
    "    return title, maiden_name, last_name"
   ],
   "id": "adf0927648f03b75",
   "outputs": [],
   "execution_count": 7
  },
  {
   "metadata": {
    "ExecuteTime": {
     "end_time": "2024-06-18T23:13:29.196212Z",
     "start_time": "2024-06-18T23:13:29.191544Z"
    }
   },
   "cell_type": "code",
   "source": [
    "def drop_full_name(dataset):\n",
    "    dataset = dataset.drop('Name', axis=1)\n",
    "    return dataset"
   ],
   "id": "d11fcc1d3acac6e3",
   "outputs": [],
   "execution_count": 8
  },
  {
   "metadata": {
    "ExecuteTime": {
     "end_time": "2024-06-18T23:13:29.573218Z",
     "start_time": "2024-06-18T23:13:29.567967Z"
    }
   },
   "cell_type": "code",
   "source": [
    "def one_hot_encode(dataset):\n",
    "    one_hot_sex = pd.get_dummies(dataset['Sex'])\n",
    "    dataset = dataset.drop('Sex', axis=1)\n",
    "    \n",
    "    one_hot_cabin = pd.get_dummies(dataset['Cabin'])\n",
    "    dataset = dataset.drop('Cabin', axis=1)\n",
    "    \n",
    "    one_hot_embarked = pd.get_dummies(dataset['Embarked'])\n",
    "    dataset = dataset.drop('Embarked', axis=1)\n",
    "    \n",
    "    one_hot_title = pd.get_dummies(dataset['Title'])\n",
    "    dataset = dataset.drop('Title', axis=1)\n",
    "    \n",
    "    one_hot_maidenname = pd.get_dummies(dataset['MaidenName'])\n",
    "    dataset = dataset.drop('MaidenName', axis=1)\n",
    "    \n",
    "    one_hot_lastname = pd.get_dummies(dataset['LastName'])\n",
    "    dataset = dataset.drop('LastName', axis=1)\n",
    "\n",
    "    return pd.concat([dataset, one_hot_sex, one_hot_cabin, one_hot_embarked, one_hot_title, one_hot_maidenname, one_hot_lastname], axis=1)"
   ],
   "id": "286b4100b4418de9",
   "outputs": [],
   "execution_count": 9
  },
  {
   "metadata": {
    "ExecuteTime": {
     "end_time": "2024-06-18T23:13:30.030068Z",
     "start_time": "2024-06-18T23:13:30.025767Z"
    }
   },
   "cell_type": "code",
   "source": [
    "def split_dataset(dataset):\n",
    "    X = dataset.drop('Survived', axis=1)\n",
    "    y = dataset['Survived']\n",
    "    \n",
    "    X_train, X_test, y_train, y_test = train_test_split(X, y, test_size=0.2, shuffle=False)\n",
    "    \n",
    "    scaler = StandardScaler()\n",
    "    #X_train = pd.DataFrame(scaler.fit_transform(X_train), columns = X_train.columns)\n",
    "    X_train = scaler.fit_transform(X_train)\n",
    "    X_test = scaler.transform(X_test)\n",
    "    y_train = y_train.values\n",
    "    y_test = y_test.values\n",
    "    #X_test = pd.DataFrame(scaler.transform(X_test), columns = X_test.columns)\n",
    "    \n",
    "    return X_train, X_test, y_train, y_test"
   ],
   "id": "ca8be4980fbd7122",
   "outputs": [],
   "execution_count": 10
  },
  {
   "metadata": {},
   "cell_type": "markdown",
   "source": "## Calling Preprocessing Functions",
   "id": "900a9b35d9dbe888"
  },
  {
   "metadata": {
    "ExecuteTime": {
     "end_time": "2024-06-18T23:13:31.081820Z",
     "start_time": "2024-06-18T23:13:31.075888Z"
    }
   },
   "cell_type": "code",
   "source": "dataset = drop_ticket(dataset)",
   "id": "481e930bdc5273ba",
   "outputs": [],
   "execution_count": 11
  },
  {
   "metadata": {
    "ExecuteTime": {
     "end_time": "2024-06-18T23:13:31.608612Z",
     "start_time": "2024-06-18T23:13:31.604799Z"
    }
   },
   "cell_type": "code",
   "source": "dataset = get_all_family_members(dataset)",
   "id": "1fba8d9193ac9459",
   "outputs": [],
   "execution_count": 12
  },
  {
   "metadata": {
    "ExecuteTime": {
     "end_time": "2024-06-18T23:13:31.909462Z",
     "start_time": "2024-06-18T23:13:31.902826Z"
    }
   },
   "cell_type": "code",
   "source": "dataset = clean_nans(dataset)",
   "id": "4588d43c4c34bfd9",
   "outputs": [],
   "execution_count": 13
  },
  {
   "metadata": {
    "ExecuteTime": {
     "end_time": "2024-06-18T23:13:32.313799Z",
     "start_time": "2024-06-18T23:13:32.208862Z"
    }
   },
   "cell_type": "code",
   "source": "dataset[['Title', 'MaidenName', 'LastName']] = dataset['Name'].apply(lambda x: pd.Series(transform_name(x)))",
   "id": "6ab69e8be4e765ee",
   "outputs": [],
   "execution_count": 14
  },
  {
   "metadata": {
    "ExecuteTime": {
     "end_time": "2024-06-18T23:13:32.558237Z",
     "start_time": "2024-06-18T23:13:32.553604Z"
    }
   },
   "cell_type": "code",
   "source": "dataset = drop_full_name(dataset)",
   "id": "cc32b2573bc8d60",
   "outputs": [],
   "execution_count": 15
  },
  {
   "metadata": {
    "ExecuteTime": {
     "end_time": "2024-06-18T23:13:32.934953Z",
     "start_time": "2024-06-18T23:13:32.919872Z"
    }
   },
   "cell_type": "code",
   "source": "dataset = one_hot_encode(dataset)",
   "id": "764d23b45f712739",
   "outputs": [],
   "execution_count": 16
  },
  {
   "metadata": {},
   "cell_type": "markdown",
   "source": "# Save New Dataset",
   "id": "c246474ff6fed673"
  },
  {
   "metadata": {
    "ExecuteTime": {
     "end_time": "2024-06-18T23:13:36.548721Z",
     "start_time": "2024-06-18T23:13:36.452840Z"
    }
   },
   "cell_type": "code",
   "source": "X_train, X_test, y_train, y_test = split_dataset(dataset)",
   "id": "868989a43229d46f",
   "outputs": [],
   "execution_count": 17
  },
  {
   "metadata": {
    "ExecuteTime": {
     "end_time": "2024-06-18T23:13:37.137285Z",
     "start_time": "2024-06-18T23:13:37.121139Z"
    }
   },
   "cell_type": "code",
   "source": [
    "with open('data/X_train.pkl', 'wb') as f:\n",
    "    pickle.dump(X_train, f)\n",
    "with open('data/X_test.pkl', 'wb') as f:\n",
    "    pickle.dump(X_test, f)\n",
    "with open('data/y_train.pkl', 'wb') as f:\n",
    "    pickle.dump(y_train, f)\n",
    "with open('data/y_test.pkl', 'wb') as f:\n",
    "    pickle.dump(y_test, f)"
   ],
   "id": "329138a78995d5e5",
   "outputs": [],
   "execution_count": 18
  },
  {
   "metadata": {},
   "cell_type": "code",
   "outputs": [],
   "execution_count": null,
   "source": "",
   "id": "8bd3596d7b77ed73"
  }
 ],
 "metadata": {
  "kernelspec": {
   "display_name": "Python 3",
   "language": "python",
   "name": "python3"
  },
  "language_info": {
   "codemirror_mode": {
    "name": "ipython",
    "version": 2
   },
   "file_extension": ".py",
   "mimetype": "text/x-python",
   "name": "python",
   "nbconvert_exporter": "python",
   "pygments_lexer": "ipython2",
   "version": "2.7.6"
  }
 },
 "nbformat": 4,
 "nbformat_minor": 5
}
