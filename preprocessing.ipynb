{
 "cells": [
  {
   "metadata": {
    "ExecuteTime": {
     "end_time": "2024-06-17T22:52:39.169077Z",
     "start_time": "2024-06-17T22:52:39.166288Z"
    }
   },
   "cell_type": "code",
   "source": [
    "import re\n",
    "import pandas as pd"
   ],
   "id": "7bb474495ddfa1bc",
   "outputs": [],
   "execution_count": 1
  },
  {
   "metadata": {},
   "cell_type": "markdown",
   "source": "# Import Dataset",
   "id": "fa85543e6b238ada"
  },
  {
   "cell_type": "code",
   "id": "initial_id",
   "metadata": {
    "collapsed": true,
    "ExecuteTime": {
     "end_time": "2024-06-17T22:52:40.399515Z",
     "start_time": "2024-06-17T22:52:40.368869Z"
    }
   },
   "source": [
    "dataset = pd.read_csv('data/train.csv')\n",
    "dataset.head()"
   ],
   "outputs": [
    {
     "data": {
      "text/plain": [
       "   PassengerId  Survived  Pclass  \\\n",
       "0            1         0       3   \n",
       "1            2         1       1   \n",
       "2            3         1       3   \n",
       "3            4         1       1   \n",
       "4            5         0       3   \n",
       "\n",
       "                                                Name     Sex   Age  SibSp  \\\n",
       "0                            Braund, Mr. Owen Harris    male  22.0      1   \n",
       "1  Cumings, Mrs. John Bradley (Florence Briggs Th...  female  38.0      1   \n",
       "2                             Heikkinen, Miss. Laina  female  26.0      0   \n",
       "3       Futrelle, Mrs. Jacques Heath (Lily May Peel)  female  35.0      1   \n",
       "4                           Allen, Mr. William Henry    male  35.0      0   \n",
       "\n",
       "   Parch            Ticket     Fare Cabin Embarked  \n",
       "0      0         A/5 21171   7.2500   NaN        S  \n",
       "1      0          PC 17599  71.2833   C85        C  \n",
       "2      0  STON/O2. 3101282   7.9250   NaN        S  \n",
       "3      0            113803  53.1000  C123        S  \n",
       "4      0            373450   8.0500   NaN        S  "
      ],
      "text/html": [
       "<div>\n",
       "<style scoped>\n",
       "    .dataframe tbody tr th:only-of-type {\n",
       "        vertical-align: middle;\n",
       "    }\n",
       "\n",
       "    .dataframe tbody tr th {\n",
       "        vertical-align: top;\n",
       "    }\n",
       "\n",
       "    .dataframe thead th {\n",
       "        text-align: right;\n",
       "    }\n",
       "</style>\n",
       "<table border=\"1\" class=\"dataframe\">\n",
       "  <thead>\n",
       "    <tr style=\"text-align: right;\">\n",
       "      <th></th>\n",
       "      <th>PassengerId</th>\n",
       "      <th>Survived</th>\n",
       "      <th>Pclass</th>\n",
       "      <th>Name</th>\n",
       "      <th>Sex</th>\n",
       "      <th>Age</th>\n",
       "      <th>SibSp</th>\n",
       "      <th>Parch</th>\n",
       "      <th>Ticket</th>\n",
       "      <th>Fare</th>\n",
       "      <th>Cabin</th>\n",
       "      <th>Embarked</th>\n",
       "    </tr>\n",
       "  </thead>\n",
       "  <tbody>\n",
       "    <tr>\n",
       "      <th>0</th>\n",
       "      <td>1</td>\n",
       "      <td>0</td>\n",
       "      <td>3</td>\n",
       "      <td>Braund, Mr. Owen Harris</td>\n",
       "      <td>male</td>\n",
       "      <td>22.0</td>\n",
       "      <td>1</td>\n",
       "      <td>0</td>\n",
       "      <td>A/5 21171</td>\n",
       "      <td>7.2500</td>\n",
       "      <td>NaN</td>\n",
       "      <td>S</td>\n",
       "    </tr>\n",
       "    <tr>\n",
       "      <th>1</th>\n",
       "      <td>2</td>\n",
       "      <td>1</td>\n",
       "      <td>1</td>\n",
       "      <td>Cumings, Mrs. John Bradley (Florence Briggs Th...</td>\n",
       "      <td>female</td>\n",
       "      <td>38.0</td>\n",
       "      <td>1</td>\n",
       "      <td>0</td>\n",
       "      <td>PC 17599</td>\n",
       "      <td>71.2833</td>\n",
       "      <td>C85</td>\n",
       "      <td>C</td>\n",
       "    </tr>\n",
       "    <tr>\n",
       "      <th>2</th>\n",
       "      <td>3</td>\n",
       "      <td>1</td>\n",
       "      <td>3</td>\n",
       "      <td>Heikkinen, Miss. Laina</td>\n",
       "      <td>female</td>\n",
       "      <td>26.0</td>\n",
       "      <td>0</td>\n",
       "      <td>0</td>\n",
       "      <td>STON/O2. 3101282</td>\n",
       "      <td>7.9250</td>\n",
       "      <td>NaN</td>\n",
       "      <td>S</td>\n",
       "    </tr>\n",
       "    <tr>\n",
       "      <th>3</th>\n",
       "      <td>4</td>\n",
       "      <td>1</td>\n",
       "      <td>1</td>\n",
       "      <td>Futrelle, Mrs. Jacques Heath (Lily May Peel)</td>\n",
       "      <td>female</td>\n",
       "      <td>35.0</td>\n",
       "      <td>1</td>\n",
       "      <td>0</td>\n",
       "      <td>113803</td>\n",
       "      <td>53.1000</td>\n",
       "      <td>C123</td>\n",
       "      <td>S</td>\n",
       "    </tr>\n",
       "    <tr>\n",
       "      <th>4</th>\n",
       "      <td>5</td>\n",
       "      <td>0</td>\n",
       "      <td>3</td>\n",
       "      <td>Allen, Mr. William Henry</td>\n",
       "      <td>male</td>\n",
       "      <td>35.0</td>\n",
       "      <td>0</td>\n",
       "      <td>0</td>\n",
       "      <td>373450</td>\n",
       "      <td>8.0500</td>\n",
       "      <td>NaN</td>\n",
       "      <td>S</td>\n",
       "    </tr>\n",
       "  </tbody>\n",
       "</table>\n",
       "</div>"
      ]
     },
     "execution_count": 2,
     "metadata": {},
     "output_type": "execute_result"
    }
   ],
   "execution_count": 2
  },
  {
   "metadata": {},
   "cell_type": "markdown",
   "source": "# Preprocessing",
   "id": "8d195f59eb40ff1c"
  },
  {
   "metadata": {},
   "cell_type": "markdown",
   "source": "## Preprocessing functions",
   "id": "87153efed2208ab2"
  },
  {
   "metadata": {
    "ExecuteTime": {
     "end_time": "2024-06-17T22:52:43.125030Z",
     "start_time": "2024-06-17T22:52:43.121611Z"
    }
   },
   "cell_type": "code",
   "source": [
    "def drop_ticket(dataset):\n",
    "    dataset = dataset.drop('Ticket', axis=1)\n",
    "    return dataset"
   ],
   "id": "dd30b24a062e8960",
   "outputs": [],
   "execution_count": 3
  },
  {
   "metadata": {
    "ExecuteTime": {
     "end_time": "2024-06-17T22:52:44.529782Z",
     "start_time": "2024-06-17T22:52:44.526278Z"
    }
   },
   "cell_type": "code",
   "source": [
    "def get_all_family_members(dataset):\n",
    "    dataset['FamilyMembers'] = dataset['SibSp'] + dataset['Parch']\n",
    "    return dataset"
   ],
   "id": "a4858e861447b27c",
   "outputs": [],
   "execution_count": 4
  },
  {
   "metadata": {
    "ExecuteTime": {
     "end_time": "2024-06-17T22:52:45.186607Z",
     "start_time": "2024-06-17T22:52:45.182763Z"
    }
   },
   "cell_type": "code",
   "source": [
    "def clean_nans(dataset):\n",
    "    dataset['Cabin'] = dataset['Cabin'].map(lambda x: x[0] if isinstance(x, str) else 'Z')\n",
    "    dataset['Embarked'] = dataset['Embarked'].fillna('None')\n",
    "    dataset['Age'] = dataset['Age'].fillna(-100)\n",
    "    \n",
    "    return dataset"
   ],
   "id": "8dc6cf0d2f6121ab",
   "outputs": [],
   "execution_count": 5
  },
  {
   "metadata": {
    "ExecuteTime": {
     "end_time": "2024-06-17T22:52:45.905766Z",
     "start_time": "2024-06-17T22:52:45.902395Z"
    }
   },
   "cell_type": "code",
   "source": [
    "def extract_title(name):\n",
    "    match = re.search(r',\\s*([^\\.]*)\\.', name)\n",
    "    if match:\n",
    "        return match.group(1).strip()\n",
    "    return \"\""
   ],
   "id": "943c3e0cda90e1b1",
   "outputs": [],
   "execution_count": 6
  },
  {
   "metadata": {
    "ExecuteTime": {
     "end_time": "2024-06-17T22:52:46.411245Z",
     "start_time": "2024-06-17T22:52:46.406134Z"
    }
   },
   "cell_type": "code",
   "source": [
    "def transform_name(name):\n",
    "    maiden_name_match = re.search(r'\\(([^()]*\\b\\w+)\\)', name)\n",
    "    last_name_match = re.match(r'([^,]+),', name)\n",
    "    title_match = re.search(r',\\s*([^\\.]*)\\.', name)\n",
    "\n",
    "    last_name = last_name_match.group(1).strip()\n",
    "    \n",
    "    if title_match:\n",
    "        title = title_match.group(1).strip()\n",
    "        if title == 'Miss' or title == 'Mlle':\n",
    "            title = 'Ms'\n",
    "        elif title == 'Mme':\n",
    "            title = 'Mrs'\n",
    "        \n",
    "    if maiden_name_match:\n",
    "        content_inside_parentheses = maiden_name_match.group(1)\n",
    "        maiden_name = content_inside_parentheses.split()[-1]\n",
    "    else:\n",
    "        maiden_name = last_name\n",
    "    \n",
    "\n",
    "    return title, maiden_name, last_name"
   ],
   "id": "adf0927648f03b75",
   "outputs": [],
   "execution_count": 7
  },
  {
   "metadata": {
    "ExecuteTime": {
     "end_time": "2024-06-17T22:52:51.253817Z",
     "start_time": "2024-06-17T22:52:51.250331Z"
    }
   },
   "cell_type": "code",
   "source": [
    "def drop_full_name(dataset):\n",
    "    dataset = dataset.drop('Name', axis=1)\n",
    "    return dataset"
   ],
   "id": "d11fcc1d3acac6e3",
   "outputs": [],
   "execution_count": 8
  },
  {
   "metadata": {},
   "cell_type": "markdown",
   "source": "## Calling Preprocessing Functions",
   "id": "900a9b35d9dbe888"
  },
  {
   "metadata": {
    "ExecuteTime": {
     "end_time": "2024-06-17T22:52:54.101191Z",
     "start_time": "2024-06-17T22:52:54.096393Z"
    }
   },
   "cell_type": "code",
   "source": "dataset = drop_ticket(dataset)",
   "id": "481e930bdc5273ba",
   "outputs": [],
   "execution_count": 9
  },
  {
   "metadata": {
    "ExecuteTime": {
     "end_time": "2024-06-17T22:52:54.935441Z",
     "start_time": "2024-06-17T22:52:54.931772Z"
    }
   },
   "cell_type": "code",
   "source": "dataset = get_all_family_members(dataset)",
   "id": "1fba8d9193ac9459",
   "outputs": [],
   "execution_count": 10
  },
  {
   "metadata": {
    "ExecuteTime": {
     "end_time": "2024-06-17T22:52:56.016881Z",
     "start_time": "2024-06-17T22:52:56.011959Z"
    }
   },
   "cell_type": "code",
   "source": "dataset = clean_nans(dataset)",
   "id": "4588d43c4c34bfd9",
   "outputs": [],
   "execution_count": 11
  },
  {
   "metadata": {
    "ExecuteTime": {
     "end_time": "2024-06-17T22:52:56.574180Z",
     "start_time": "2024-06-17T22:52:56.447628Z"
    }
   },
   "cell_type": "code",
   "source": "dataset[['Title', 'MaidenName', 'LastName']] = dataset['Name'].apply(lambda x: pd.Series(transform_name(x)))",
   "id": "6ab69e8be4e765ee",
   "outputs": [],
   "execution_count": 12
  },
  {
   "metadata": {
    "ExecuteTime": {
     "end_time": "2024-06-17T22:52:56.922471Z",
     "start_time": "2024-06-17T22:52:56.917011Z"
    }
   },
   "cell_type": "code",
   "source": "dataset = drop_full_name(dataset)",
   "id": "cc32b2573bc8d60",
   "outputs": [],
   "execution_count": 13
  },
  {
   "metadata": {},
   "cell_type": "markdown",
   "source": "# Save New Dataset",
   "id": "c246474ff6fed673"
  },
  {
   "metadata": {
    "ExecuteTime": {
     "end_time": "2024-06-17T22:53:01.984565Z",
     "start_time": "2024-06-17T22:53:01.971714Z"
    }
   },
   "cell_type": "code",
   "source": "dataset.head()",
   "id": "e042fa7e54d34c9d",
   "outputs": [
    {
     "data": {
      "text/plain": [
       "   PassengerId  Survived  Pclass     Sex   Age  SibSp  Parch     Fare Cabin  \\\n",
       "0            1         0       3    male  22.0      1      0   7.2500     Z   \n",
       "1            2         1       1  female  38.0      1      0  71.2833     C   \n",
       "2            3         1       3  female  26.0      0      0   7.9250     Z   \n",
       "3            4         1       1  female  35.0      1      0  53.1000     C   \n",
       "4            5         0       3    male  35.0      0      0   8.0500     Z   \n",
       "\n",
       "  Embarked  FamilyMembers Title MaidenName   LastName  \n",
       "0        S              1    Mr     Braund     Braund  \n",
       "1        C              1   Mrs     Thayer    Cumings  \n",
       "2        S              0    Ms  Heikkinen  Heikkinen  \n",
       "3        S              1   Mrs       Peel   Futrelle  \n",
       "4        S              0    Mr      Allen      Allen  "
      ],
      "text/html": [
       "<div>\n",
       "<style scoped>\n",
       "    .dataframe tbody tr th:only-of-type {\n",
       "        vertical-align: middle;\n",
       "    }\n",
       "\n",
       "    .dataframe tbody tr th {\n",
       "        vertical-align: top;\n",
       "    }\n",
       "\n",
       "    .dataframe thead th {\n",
       "        text-align: right;\n",
       "    }\n",
       "</style>\n",
       "<table border=\"1\" class=\"dataframe\">\n",
       "  <thead>\n",
       "    <tr style=\"text-align: right;\">\n",
       "      <th></th>\n",
       "      <th>PassengerId</th>\n",
       "      <th>Survived</th>\n",
       "      <th>Pclass</th>\n",
       "      <th>Sex</th>\n",
       "      <th>Age</th>\n",
       "      <th>SibSp</th>\n",
       "      <th>Parch</th>\n",
       "      <th>Fare</th>\n",
       "      <th>Cabin</th>\n",
       "      <th>Embarked</th>\n",
       "      <th>FamilyMembers</th>\n",
       "      <th>Title</th>\n",
       "      <th>MaidenName</th>\n",
       "      <th>LastName</th>\n",
       "    </tr>\n",
       "  </thead>\n",
       "  <tbody>\n",
       "    <tr>\n",
       "      <th>0</th>\n",
       "      <td>1</td>\n",
       "      <td>0</td>\n",
       "      <td>3</td>\n",
       "      <td>male</td>\n",
       "      <td>22.0</td>\n",
       "      <td>1</td>\n",
       "      <td>0</td>\n",
       "      <td>7.2500</td>\n",
       "      <td>Z</td>\n",
       "      <td>S</td>\n",
       "      <td>1</td>\n",
       "      <td>Mr</td>\n",
       "      <td>Braund</td>\n",
       "      <td>Braund</td>\n",
       "    </tr>\n",
       "    <tr>\n",
       "      <th>1</th>\n",
       "      <td>2</td>\n",
       "      <td>1</td>\n",
       "      <td>1</td>\n",
       "      <td>female</td>\n",
       "      <td>38.0</td>\n",
       "      <td>1</td>\n",
       "      <td>0</td>\n",
       "      <td>71.2833</td>\n",
       "      <td>C</td>\n",
       "      <td>C</td>\n",
       "      <td>1</td>\n",
       "      <td>Mrs</td>\n",
       "      <td>Thayer</td>\n",
       "      <td>Cumings</td>\n",
       "    </tr>\n",
       "    <tr>\n",
       "      <th>2</th>\n",
       "      <td>3</td>\n",
       "      <td>1</td>\n",
       "      <td>3</td>\n",
       "      <td>female</td>\n",
       "      <td>26.0</td>\n",
       "      <td>0</td>\n",
       "      <td>0</td>\n",
       "      <td>7.9250</td>\n",
       "      <td>Z</td>\n",
       "      <td>S</td>\n",
       "      <td>0</td>\n",
       "      <td>Ms</td>\n",
       "      <td>Heikkinen</td>\n",
       "      <td>Heikkinen</td>\n",
       "    </tr>\n",
       "    <tr>\n",
       "      <th>3</th>\n",
       "      <td>4</td>\n",
       "      <td>1</td>\n",
       "      <td>1</td>\n",
       "      <td>female</td>\n",
       "      <td>35.0</td>\n",
       "      <td>1</td>\n",
       "      <td>0</td>\n",
       "      <td>53.1000</td>\n",
       "      <td>C</td>\n",
       "      <td>S</td>\n",
       "      <td>1</td>\n",
       "      <td>Mrs</td>\n",
       "      <td>Peel</td>\n",
       "      <td>Futrelle</td>\n",
       "    </tr>\n",
       "    <tr>\n",
       "      <th>4</th>\n",
       "      <td>5</td>\n",
       "      <td>0</td>\n",
       "      <td>3</td>\n",
       "      <td>male</td>\n",
       "      <td>35.0</td>\n",
       "      <td>0</td>\n",
       "      <td>0</td>\n",
       "      <td>8.0500</td>\n",
       "      <td>Z</td>\n",
       "      <td>S</td>\n",
       "      <td>0</td>\n",
       "      <td>Mr</td>\n",
       "      <td>Allen</td>\n",
       "      <td>Allen</td>\n",
       "    </tr>\n",
       "  </tbody>\n",
       "</table>\n",
       "</div>"
      ]
     },
     "execution_count": 14,
     "metadata": {},
     "output_type": "execute_result"
    }
   ],
   "execution_count": 14
  },
  {
   "metadata": {
    "ExecuteTime": {
     "end_time": "2024-06-17T22:53:09.921394Z",
     "start_time": "2024-06-17T22:53:09.911709Z"
    }
   },
   "cell_type": "code",
   "source": "dataset.to_csv('data/train_preprocessed.csv', index=False)",
   "id": "3d4e1e2f5c57e675",
   "outputs": [],
   "execution_count": 16
  },
  {
   "metadata": {},
   "cell_type": "code",
   "outputs": [],
   "execution_count": null,
   "source": "",
   "id": "752f188f046ded46"
  }
 ],
 "metadata": {
  "kernelspec": {
   "display_name": "Python 3",
   "language": "python",
   "name": "python3"
  },
  "language_info": {
   "codemirror_mode": {
    "name": "ipython",
    "version": 2
   },
   "file_extension": ".py",
   "mimetype": "text/x-python",
   "name": "python",
   "nbconvert_exporter": "python",
   "pygments_lexer": "ipython2",
   "version": "2.7.6"
  }
 },
 "nbformat": 4,
 "nbformat_minor": 5
}
